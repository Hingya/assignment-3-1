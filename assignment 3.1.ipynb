{
 "cells": [
  {
   "cell_type": "markdown",
   "id": "40377bd4",
   "metadata": {},
   "source": [
    "# Assignment 3"
   ]
  },
  {
   "cell_type": "markdown",
   "id": "70ca347e",
   "metadata": {},
   "source": [
    "Write a Python program to reverse a string."
   ]
  },
  {
   "cell_type": "code",
   "execution_count": 17,
   "id": "34807f39",
   "metadata": {},
   "outputs": [
    {
     "name": "stdout",
     "output_type": "stream",
     "text": [
      "dcba4321\n"
     ]
    }
   ],
   "source": [
    "def reverse(s):\n",
    "    stri =\"\"\n",
    "    for c in s:\n",
    "        stri = c + stri\n",
    "    return stri \n",
    "s= \"1234abcd\"\n",
    "print(reverse(s))"
   ]
  },
  {
   "cell_type": "code",
   "execution_count": null,
   "id": "483a4452",
   "metadata": {},
   "outputs": [],
   "source": []
  }
 ],
 "metadata": {
  "kernelspec": {
   "display_name": "Python 3 (ipykernel)",
   "language": "python",
   "name": "python3"
  },
  "language_info": {
   "codemirror_mode": {
    "name": "ipython",
    "version": 3
   },
   "file_extension": ".py",
   "mimetype": "text/x-python",
   "name": "python",
   "nbconvert_exporter": "python",
   "pygments_lexer": "ipython3",
   "version": "3.9.7"
  }
 },
 "nbformat": 4,
 "nbformat_minor": 5
}
